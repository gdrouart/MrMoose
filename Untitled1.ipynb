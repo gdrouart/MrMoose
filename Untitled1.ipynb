{
 "cells": [
  {
   "cell_type": "code",
   "execution_count": 4,
   "metadata": {},
   "outputs": [],
   "source": [
    "# defining a decorator \n",
    "def hello_decorator(func): \n",
    "    \n",
    "    # inner1 is a Wrapper function in  \n",
    "    # which the argument is called \n",
    "        \n",
    "    # inner function can access the outer local \n",
    "    # functions like in this case \"func\" \n",
    "    def inner1(): \n",
    "        print(\"Hello, this is before function execution\") \n",
    "    \n",
    "        # calling the actual function now \n",
    "        # inside the wrapper function. \n",
    "        func() \n",
    "    \n",
    "        print(\"This is after function execution\") \n",
    "            \n",
    "    return inner1 \n",
    "    \n",
    "    \n",
    "# defining a function, to be called inside wrapper \n",
    "def function_to_be_used(): \n",
    "    print(\"This is inside the function !!\")     \n"
   ]
  },
  {
   "cell_type": "code",
   "execution_count": 5,
   "metadata": {},
   "outputs": [
    {
     "name": "stdout",
     "output_type": "stream",
     "text": [
      "Hello, this is before function execution\n",
      "This is inside the function !!\n",
      "This is after function execution\n"
     ]
    }
   ],
   "source": [
    "# passing 'function_to_be_used' inside the \n",
    "# decorator to control its behavior \n",
    "function_to_be_used = hello_decorator(function_to_be_used) \n",
    "\n",
    "# calling the function \n",
    "function_to_be_used() "
   ]
  },
  {
   "cell_type": "code",
   "execution_count": 6,
   "metadata": {},
   "outputs": [],
   "source": [
    "import time\n",
    "  \n",
    "def timeis(func):\n",
    "    '''Decorator that reports the execution time.'''\n",
    "  \n",
    "    def wrap(*args, **kwargs):\n",
    "        start = time.time()\n",
    "        result = func(*args, **kwargs)\n",
    "        end = time.time()\n",
    "          \n",
    "        print(func.__name__, end-start)\n",
    "        return result\n",
    "    return wrap\n",
    "  \n",
    "@timeis\n",
    "def countdown(n):\n",
    "    '''Counts down'''\n",
    "    while n > 0:\n",
    "        n -= 1\n"
   ]
  },
  {
   "cell_type": "code",
   "execution_count": 7,
   "metadata": {},
   "outputs": [
    {
     "name": "stdout",
     "output_type": "stream",
     "text": [
      "countdown 2.1457672119140625e-06\n",
      "countdown 8.082389831542969e-05\n"
     ]
    }
   ],
   "source": [
    "countdown(5)\n",
    "countdown(1000)"
   ]
  },
  {
   "cell_type": "code",
   "execution_count": 8,
   "metadata": {},
   "outputs": [],
   "source": [
    "def net_price(price, tax):\n",
    "    \"\"\" calculate the net price from price and tax\n",
    "    Arguments:\n",
    "        price: the selling price\n",
    "        tax: value added tax or sale tax\n",
    "    Return\n",
    "        the net price\n",
    "    \"\"\"\n",
    "    return price * (1 + tax)"
   ]
  },
  {
   "cell_type": "code",
   "execution_count": 9,
   "metadata": {},
   "outputs": [],
   "source": [
    "def currency(fn):\n",
    "    def wrapper(*args, **kwargs):\n",
    "        result = fn(*args, **kwargs)\n",
    "        return f'${result}'\n",
    "    return wrapper"
   ]
  },
  {
   "cell_type": "code",
   "execution_count": 10,
   "metadata": {},
   "outputs": [
    {
     "name": "stdout",
     "output_type": "stream",
     "text": [
      "$105.0\n"
     ]
    }
   ],
   "source": [
    "net_price = currency(net_price)\n",
    "print(net_price(100, 0.05))"
   ]
  },
  {
   "cell_type": "code",
   "execution_count": null,
   "metadata": {},
   "outputs": [],
   "source": []
  }
 ],
 "metadata": {
  "kernelspec": {
   "display_name": "Python 3",
   "language": "python",
   "name": "python3"
  },
  "language_info": {
   "codemirror_mode": {
    "name": "ipython",
    "version": 3
   },
   "file_extension": ".py",
   "mimetype": "text/x-python",
   "name": "python",
   "nbconvert_exporter": "python",
   "pygments_lexer": "ipython3",
   "version": "3.6.10"
  }
 },
 "nbformat": 4,
 "nbformat_minor": 4
}
