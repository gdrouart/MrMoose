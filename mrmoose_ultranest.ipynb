{
 "cells": [
  {
   "cell_type": "code",
   "execution_count": 1,
   "metadata": {},
   "outputs": [],
   "source": [
    "%matplotlib inline\n",
    "import matplotlib.pyplot as plt\n",
    "\n",
    "import time\n",
    "import pickle as pickle\n",
    "import yaml\n",
    "import emcee\n",
    "\n",
    "from utils import fitting as ft\n",
    "from utils import graphics as gp\n",
    "from utils import read_files as rd\n",
    "from utils import mm_utilities as ut\n",
    "from utils import analysis as an\n",
    "from utils.models import *\n",
    "from utils.fitting import *\n",
    "\n",
    "# testing\n",
    "import numpy as np"
   ]
  },
  {
   "cell_type": "code",
   "execution_count": 2,
   "metadata": {},
   "outputs": [
    {
     "name": "stdout",
     "output_type": "stream",
     "text": [
      "nothing to convert, already in right units\n"
     ]
    },
    {
     "name": "stderr",
     "output_type": "stream",
     "text": [
      "/var/folders/mz/n4w7sm8s1r3096npg5l2k6_w0000gq/T/ipykernel_57759/2956088924.py:3: YAMLLoadWarning: calling yaml.load() without Loader=... is deprecated, as the default Loader is unsafe. Please read https://msg.pyyaml.org/load for full details.\n",
      "  fit_struct = yaml.load(input)\n"
     ]
    }
   ],
   "source": [
    "#with open('fake_source_ex6zz.fit', 'rb') as input:\n",
    "with open('fake_source_ex1.fit', 'rb') as input:\n",
    "    fit_struct = yaml.load(input)\n",
    "ut.add_filenames(fit_struct)\n",
    "data_struct = rd.read_data(fit_struct['source_file'], [fit_struct['unit_flux'], fit_struct['unit_obs']])\n",
    "model_struct = rd.read_mod_file(fit_struct['model_file'])\n",
    "filter_struct = rd.read_filters(data_struct)\n",
    "\n",
    "rd.set_init_guess(model_struct)\n",
    "rd.set_param_start(model_struct)\n",
    "\n",
    "detection_mask = []\n",
    "for i in range(len(data_struct)):\n",
    "    detection_mask.append(data_struct[i]['det_type'] == 'd')\n"
   ]
  },
  {
   "cell_type": "code",
   "execution_count": 3,
   "metadata": {},
   "outputs": [],
   "source": [
    "def lnprior(theta, models):\n",
    "#     print(theta.shape, theta)\n",
    "    tmin = ut.flatten_model_keyword(models, 'min')\n",
    "    tmax = ut.flatten_model_keyword(models, 'max')\n",
    "    # trick to get the dimension of table right...\n",
    "    theta = theta.flatten()\n",
    "\n",
    "    list_prior = [0.0 if tmin[i] < theta[i] < tmax[i] else -np.inf for i in range(len(tmin))]\n",
    "#     print(list_prior)\n",
    "    return sum(list_prior)\n",
    "\n",
    "def lnprior_un(theta, models):\n",
    "    # print(theta.shape, theta)\n",
    "    tmin = ut.flatten_model_keyword(models, 'min')\n",
    "#     print('tmin',tmin)\n",
    "#     print('theta',theta)\n",
    "    # tmax = ut.flatten_model_keyword(models, 'max')\n",
    "    # trick to get the dimension of table right...\n",
    "    theta = theta.flatten()\n",
    "    list_prior=np.zeros(tmin.size)\n",
    "    list_prior[0] = theta[0]*10.-25.\n",
    "    list_prior[1] = theta[1]*2.-2.\n",
    "#     print('list_prior',list_prior)\n",
    "    return list_prior\n",
    "\n",
    "def lnprior_un2(theta, models):\n",
    "    tmin = ut.flatten_model_keyword(models, 'min')\n",
    "    tmax = ut.flatten_model_keyword(models, 'max')\n",
    "    theta = theta.flatten()\n",
    "    list_prior=np.zeros(tmin.size)\n",
    "#     print('theta',theta)\n",
    "    for i,elem in enumerate(theta):\n",
    "#         print(i,elem,tmax[i],tmin[i])\n",
    "        list_prior[i] = elem*np.abs(tmax[i]-tmin[i])+tmin[i]\n",
    "#     print('prior',list_prior)\n",
    "    return list_prior\n",
    "\n",
    "def lnprob(theta, fit_struct, data, filters, models, detection_mask):\n",
    "    lp = lnprior(theta, models)\n",
    "    if not np.isfinite(lp):\n",
    "        return -np.inf\n",
    "    return lp + lnlike(theta, fit_struct, data, filters, models, detection_mask)\n",
    "\n",
    "def lnlike(theta, fit_struct, data, filters, param, detection_mask):\n",
    "    theta = theta.flatten()\n",
    "    ub = 0\n",
    "    for i in range(len(param)):\n",
    "        lb = ub\n",
    "        ub = param[i]['dim'] + ub\n",
    "        param[i]['current'] = theta[lb:ub]\n",
    "\n",
    "    model_data = []\n",
    "    number_of_component = []\n",
    "    detections = []\n",
    "    model_detections = []\n",
    "    upper_limits = []\n",
    "    model_upper_limits = []\n",
    "\n",
    "    for i in range(len(data)):\n",
    "        number_of_component.append(list(map(int, str.split(data[i]['component_number'][0], ','))))\n",
    "        min_tmp = np.log10(min(data[i]['lambda0'])*0.01)\n",
    "        max_tmp = np.log10(max(data[i]['lambda0'])*100.)\n",
    "        xscale = 10**np.linspace(min_tmp, max_tmp, 2000)\n",
    "        temp = np.zeros(2000)\n",
    "\n",
    "        for j in range(len(number_of_component[i])):\n",
    "#             print(param[number_of_component[i][j]]['current'])\n",
    "            if fit_struct['redshift'][number_of_component[i][j]] >= 0:\n",
    "#                 print(\"pass positive, \", param[number_of_component[i][j]]['func'])\n",
    "                temp2 = globals()[param[number_of_component[i][j]]['func']]\\\n",
    "                    (xscale, param[number_of_component[i][j]]['current'], fit_struct['redshift'][number_of_component[i][j]])\n",
    "            else:\n",
    "                #print \"pass negative, \", param[number_of_component[i][j]]['func']\n",
    "                temp2 = globals()[param[number_of_component[i][j]]['func']]\\\n",
    "                    (xscale, param[number_of_component[i][j]]['current'])\n",
    "            temp += temp2\n",
    "\n",
    "        # Making the sum of models to go through filters\n",
    "        temp_mod_filter = np.empty(data[i]['lambda0'].size)\n",
    "\n",
    "        for j, elem in enumerate(filters[i]['name']):\n",
    "            temp_mod_filter[j] = ut.integrate_filter(xscale, temp, filters[i]['wav'][j][:], filters[i]['trans'][j][:])\n",
    "\n",
    "        model_data.append(temp_mod_filter)\n",
    "\n",
    "\n",
    "        # splits data in detection or upper limits, since you need to send these ones to different chi2 functions\n",
    "        detections.append(data[i][detection_mask[i]])\n",
    "        model_detections.append(model_data[i][np.array(detection_mask[i])])\n",
    "\n",
    "        upper_limits.append(data[i][~detection_mask[i]])\n",
    "        model_upper_limits.append(model_data[i][~np.array(detection_mask[i])])\n",
    "\n",
    "\n",
    "    # calculate the total chi2 which is the main part of this function\n",
    "    chi2_classic = []\n",
    "    chi2_modified = []\n",
    "\n",
    "    for i in range(len(detections)):\n",
    "        chi2_classic.append(calc_chi2(detections[i]['flux'],\n",
    "                                      detections[i]['flux_error'],\n",
    "                                      model_detections[i]))\n",
    "\n",
    "    for i in range(len(upper_limits)):\n",
    "        chi2_modified.append(calc_chi2_mod(upper_limits[i]['flux'],\n",
    "                                           upper_limits[i]['flux_error'],\n",
    "                                           model_upper_limits[i]))\n",
    "#     print(chi2_classic,chi2_modified)\n",
    "    return -(sum(chi2_classic)+sum(chi2_modified))\n"
   ]
  },
  {
   "cell_type": "code",
   "execution_count": 4,
   "metadata": {},
   "outputs": [],
   "source": [
    "def wrap_prior(*args):\n",
    "    return lnprior_un2(*args, model_struct)\n",
    "def wrap_likelihood(*args):\n",
    "    return lnlike(*args,fit_struct, data_struct, filter_struct, model_struct, detection_mask)\n",
    "\n",
    "def meta_decorator(fit_struct, data_struct, filter_struct, model_struct, detection_mask):\n",
    "    def decorator_list(fnc):\n",
    "        def inner(*args,**kwargs):\n",
    "            return fnc(*args, fit_struct, data_struct, filter_struct, model_struct, detection_mask)\n",
    "        return inner\n",
    "    return decorator_list\n",
    "\n",
    "@meta_decorator(fit_struct, data_struct, filter_struct, model_struct, detection_mask)\n",
    "def like_deco(theta,*args):\n",
    "    return lnlike(theta,*args)\n"
   ]
  },
  {
   "cell_type": "code",
   "execution_count": null,
   "metadata": {},
   "outputs": [],
   "source": []
  },
  {
   "cell_type": "code",
   "execution_count": null,
   "metadata": {},
   "outputs": [],
   "source": [
    "# import ultranest\n",
    "# from functools import partial\n",
    "# partial?\n",
    "\n",
    "# param_names=list(ut.flatten_model_keyword(model_struct,'param'))\n",
    "# theta=np.zeros(2)\n",
    "# wrap_prior=partial(lnprior_un2,model_struct)\n",
    "# wrap_like=partial(lnlike,fit_struct, data_struct, filter_struct, model_struct, detection_mask)\n",
    "\n",
    "# # sampler = ultranest.ReactiveNestedSampler(param_names, deco_likelihood, deco_prior)\n",
    "# # sampler = ultranest.ReactiveNestedSampler(param_names, lnlike, lnprior_un2)\n",
    "# # sampler = ultranest.ReactiveNestedSampler(param_names, wrap_like, wrap_prior)\n"
   ]
  },
  {
   "cell_type": "code",
   "execution_count": null,
   "metadata": {
    "scrolled": false
   },
   "outputs": [],
   "source": [
    "import ultranest\n",
    "param_names=list(ut.flatten_model_keyword(model_struct,'param'))\n",
    "print(param_names)\n",
    "sampler = ultranest.ReactiveNestedSampler(param_names, like_deco, wrap_prior,resume=True)\n",
    "start_time=time.time()"
   ]
  },
  {
   "cell_type": "code",
   "execution_count": null,
   "metadata": {},
   "outputs": [],
   "source": []
  },
  {
   "cell_type": "code",
   "execution_count": null,
   "metadata": {
    "scrolled": false
   },
   "outputs": [],
   "source": [
    "start_time=time.time()\n",
    "result=sampler.run()\n",
    "end_time=time.time()\n",
    "import dill\n",
    "with open('test.pkl','wb') as file:\n",
    "    dill.dump(sampler, file)"
   ]
  },
  {
   "cell_type": "code",
   "execution_count": 9,
   "metadata": {
    "scrolled": false
   },
   "outputs": [
    {
     "ename": "AttributeError",
     "evalue": "module 'ultranest' has no attribute 'plot'",
     "output_type": "error",
     "traceback": [
      "\u001b[0;31m---------------------------------------------------------------------------\u001b[0m",
      "\u001b[0;31mAttributeError\u001b[0m                            Traceback (most recent call last)",
      "\u001b[0;32m/var/folders/mz/n4w7sm8s1r3096npg5l2k6_w0000gq/T/ipykernel_57759/2569024448.py\u001b[0m in \u001b[0;36m<module>\u001b[0;34m\u001b[0m\n\u001b[1;32m      8\u001b[0m \u001b[0;31m# plt.figure()\u001b[0m\u001b[0;34m\u001b[0m\u001b[0;34m\u001b[0m\u001b[0;34m\u001b[0m\u001b[0m\n\u001b[1;32m      9\u001b[0m \u001b[0mfig_trace\u001b[0m\u001b[0;34m=\u001b[0m\u001b[0mplt\u001b[0m\u001b[0;34m.\u001b[0m\u001b[0mfigure\u001b[0m\u001b[0;34m(\u001b[0m\u001b[0;34m)\u001b[0m\u001b[0;34m\u001b[0m\u001b[0;34m\u001b[0m\u001b[0m\n\u001b[0;32m---> 10\u001b[0;31m \u001b[0max\u001b[0m\u001b[0;34m=\u001b[0m\u001b[0multranest\u001b[0m\u001b[0;34m.\u001b[0m\u001b[0mplot\u001b[0m\u001b[0;34m.\u001b[0m\u001b[0mtraceplot\u001b[0m\u001b[0;34m(\u001b[0m\u001b[0mresults\u001b[0m\u001b[0;34m=\u001b[0m\u001b[0msampler\u001b[0m\u001b[0;34m.\u001b[0m\u001b[0mrun_sequence\u001b[0m\u001b[0;34m,\u001b[0m \u001b[0mlabels\u001b[0m\u001b[0;34m=\u001b[0m\u001b[0msampler\u001b[0m\u001b[0;34m.\u001b[0m\u001b[0mparamnames\u001b[0m \u001b[0;34m+\u001b[0m \u001b[0msampler\u001b[0m\u001b[0;34m.\u001b[0m\u001b[0mderivedparamnames\u001b[0m\u001b[0;34m)\u001b[0m\u001b[0;34m\u001b[0m\u001b[0;34m\u001b[0m\u001b[0m\n\u001b[0m\u001b[1;32m     11\u001b[0m \u001b[0mget_ipython\u001b[0m\u001b[0;34m(\u001b[0m\u001b[0;34m)\u001b[0m\u001b[0;34m.\u001b[0m\u001b[0mrun_line_magic\u001b[0m\u001b[0;34m(\u001b[0m\u001b[0;34m'pinfo'\u001b[0m\u001b[0;34m,\u001b[0m \u001b[0;34m'ultranest.plot.traceplot'\u001b[0m\u001b[0;34m)\u001b[0m\u001b[0;34m\u001b[0m\u001b[0;34m\u001b[0m\u001b[0m\n\u001b[1;32m     12\u001b[0m \u001b[0mfig_trace\u001b[0m\u001b[0;34m.\u001b[0m\u001b[0msavefig\u001b[0m\u001b[0;34m(\u001b[0m\u001b[0;34m'test.pdf'\u001b[0m\u001b[0;34m)\u001b[0m\u001b[0;34m\u001b[0m\u001b[0;34m\u001b[0m\u001b[0m\n",
      "\u001b[0;31mAttributeError\u001b[0m: module 'ultranest' has no attribute 'plot'"
     ]
    },
    {
     "data": {
      "text/plain": [
       "<Figure size 432x288 with 0 Axes>"
      ]
     },
     "metadata": {},
     "output_type": "display_data"
    }
   ],
   "source": [
    "import ultranest\n",
    "with open('test.pkl','rb') as file:\n",
    "    sampler=dill.load(file)\n",
    "param_names=list(ut.flatten_model_keyword(model_struct,'param'))\n",
    "# end_time=time.time()\n",
    "# sampler.plot_corner()\n",
    "# sampler.plot_run()\n",
    "# plt.figure()\n",
    "fig_trace=plt.figure()\n",
    "ax=ultranest.plot.traceplot(results=sampler.run_sequence, labels=sampler.paramnames + sampler.derivedparamnames)\n",
    "ultranest.plot.traceplot?\n",
    "fig_trace.savefig('test.pdf')\n",
    "# print(end_time-start_time)\n",
    "\n"
   ]
  },
  {
   "cell_type": "code",
   "execution_count": 35,
   "metadata": {},
   "outputs": [
    {
     "data": {
      "text/plain": [
       "array([0.00000000e+00, 0.00000000e+00, 0.00000000e+00, ...,\n",
       "       2.51087197e-05, 2.51088276e-05, 2.51092514e-05])"
      ]
     },
     "execution_count": 35,
     "metadata": {},
     "output_type": "execute_result"
    },
    {
     "data": {
      "image/png": "[encoded data removed]",
      "text/plain": [
       "<Figure size 432x288 with 2 Axes>"
      ]
     },
     "metadata": {
      "needs_background": "light"
     },
     "output_type": "display_data"
    }
   ],
   "source": [
    "fig, axs = plt.subplots(2, 1,sharex=True)\n",
    "for i in range(sampler.run_sequence['samples'].shape[1]):\n",
    "    axs[i].scatter(-sampler.run_sequence['logvol'],sampler.run_sequence['samples'][:,i],s=3)\n",
    "# plt.scatter(result['samples'][:,1],sampler.run_sequence['logvol'],s=2)\n",
    "# plt.xscale('log')\n",
    "sampler.run_sequence.keys()\n",
    "sampler.run_sequence['weights']"
   ]
  },
  {
   "cell_type": "code",
   "execution_count": 66,
   "metadata": {},
   "outputs": [
    {
     "data": {
      "text/plain": [
       "4"
      ]
     },
     "execution_count": 66,
     "metadata": {},
     "output_type": "execute_result"
    }
   ],
   "source": [
    "9 % 5"
   ]
  },
  {
   "cell_type": "code",
   "execution_count": null,
   "metadata": {},
   "outputs": [],
   "source": [
    "import dill\n",
    "with open('test.pkl','wb') as file:\n",
    "    dill.dump(sampler, file)"
   ]
  },
  {
   "cell_type": "code",
   "execution_count": null,
   "metadata": {},
   "outputs": [],
   "source": []
  },
  {
   "cell_type": "code",
   "execution_count": 11,
   "metadata": {},
   "outputs": [
    {
     "data": {
      "image/png": "[encoded data removed]",
      "text/plain": [
       "<Figure size 396x396 with 4 Axes>"
      ]
     },
     "metadata": {
      "needs_background": "light"
     },
     "output_type": "display_data"
    }
   ],
   "source": [
    "import corner\n",
    "samples=np.array(sampler.results['weighted_samples']['points'])\n",
    "weights = np.array(sampler.results['weighted_samples']['weights'])\n",
    "cumsumweights = np.cumsum(weights)\n",
    "mask = cumsumweights > 1e-4                   \n",
    "\n",
    "fig = corner.corner(samples[mask,:], labels=param_names, show_titles=True, verbose=False,\n",
    "                    quantiles=[0.1,0.25,0.5,0.75,0.9], plot_contours=True, plot_density=False,\n",
    "                    levels=[0.25,0.5,0.75], fill_contours=False, no_fill_contours=True,\n",
    "                    smooth=1,weights=weights[mask])\n",
    "\n",
    "# add the name of the source on top of the corner plot\n",
    "# fig.text(0.9, 0.9, fit_struct['source'], ha='right')"
   ]
  },
  {
   "cell_type": "code",
   "execution_count": null,
   "metadata": {},
   "outputs": [],
   "source": [
    "result"
   ]
  },
  {
   "cell_type": "code",
   "execution_count": null,
   "metadata": {},
   "outputs": [],
   "source": [
    "from ultranest.plot import PredictionBand\n",
    "x = 10**np.linspace(7.8, 10., 400)\n",
    "band = PredictionBand(x)\n",
    "band_lo = PredictionBand(x)\n",
    "band_hi = PredictionBand(x)\n",
    "\n",
    "for params in sampler.results['samples'][:40]:\n",
    "    y = double_sync_law_z(x,params)\n",
    "#     slope, offset, scatter = params\n",
    "#     y = (x - 10) * slope + offset\n",
    "    band.add(y)\n",
    "\n",
    "    # indicate intrinsic scatter\n",
    "#     band_hi.add(10**(y + scatter))\n",
    "#     band_lo.add(10**(y - scatter))\n"
   ]
  },
  {
   "cell_type": "code",
   "execution_count": null,
   "metadata": {},
   "outputs": [],
   "source": [
    "plt.plot(data_struct[0]['lambda0'],data_struct[0]['flux'],marker='D',ls='none')\n",
    "plt.xscale('log');plt.yscale('log')\n",
    "band.shade(color='k', alpha=0.1)"
   ]
  },
  {
   "cell_type": "code",
   "execution_count": null,
   "metadata": {},
   "outputs": [],
   "source": [
    "sampler.results['samples']"
   ]
  },
  {
   "cell_type": "code",
   "execution_count": null,
   "metadata": {},
   "outputs": [],
   "source": [
    "toto=ut.flatten_model_keyword(model_struct,'param')"
   ]
  },
  {
   "cell_type": "code",
   "execution_count": null,
   "metadata": {},
   "outputs": [],
   "source": [
    "def lnlike(theta, fit_struct, data, filters, param, detection_mask):\n",
    "    # blablabla\n",
    "    return chi2\n",
    "\n",
    "def lnprob(theta, fit_struct, data, filters, models, detection_mask):\n",
    "    # blablabla\n",
    "    return lnprior(theta,models) + lnlike(theta, fit_struct, data, filters, models, detection_mask)\n",
    "\n",
    "def lnprior(theta, models):\n",
    "    # blablabla\n",
    "    return prior_list\n",
    "\n",
    "sampler = emcee.EnsembleSampler(fit_struct['nwalkers'], ndim, lnprob,\n",
    "                                args=(fit_struct, data_struct, filter_struct, model_struct, detection_mask), backend=backend)\n"
   ]
  },
  {
   "cell_type": "code",
   "execution_count": null,
   "metadata": {},
   "outputs": [],
   "source": [
    "def wrap_prior(*args):\n",
    "    return lnprior(*args, model_struct)\n",
    "def wrap_likelihood(*args):\n",
    "    return lnlike(*args, fit_struct, data_struct, filter_struct, model_struct, detection_mask)\n",
    "\n",
    "sampler = ultranest.ReactiveNestedSampler(param_names, wrap_likelihood, wrap_prior)\n"
   ]
  },
  {
   "cell_type": "code",
   "execution_count": null,
   "metadata": {},
   "outputs": [],
   "source": [
    "ultranest.ReactiveNestedSampler?"
   ]
  },
  {
   "cell_type": "code",
   "execution_count": null,
   "metadata": {},
   "outputs": [],
   "source": [
    "result"
   ]
  },
  {
   "cell_type": "code",
   "execution_count": null,
   "metadata": {},
   "outputs": [],
   "source": [
    "model_struct[0]['bestfit']=result['maximum_likelihood']['point']"
   ]
  },
  {
   "cell_type": "code",
   "execution_count": null,
   "metadata": {},
   "outputs": [],
   "source": [
    "result['maximum_likelihood']['logl']"
   ]
  },
  {
   "cell_type": "code",
   "execution_count": null,
   "metadata": {},
   "outputs": [],
   "source": [
    "import matplotlib as mpl\n",
    "from matplotlib.collections import LineCollection\n",
    "import matplotlib.pyplot as plt\n",
    "\n",
    "cmap = mpl.cm.rainbow\n",
    "fig1 = plt.figure(figsize=(20,20))\n",
    "ax1 = fig1.add_subplot(111)\n",
    "\n",
    "dim_plot = 200\n",
    "min_data = min([min(x['lambda0']) for x in data_struct])*0.1\n",
    "max_data = max([max(x['lambda0']) for x in data_struct])*10\n",
    "xscale = 10 ** (np.linspace(np.log10(min_data), np.log10(max_data), dim_plot))\n",
    "\n",
    "# loop on the arrangement: data and combination of models are the same color\n",
    "for i_arr in range(len(data_struct)):  # loop on the arrangement\n",
    "    # get the detection and upper limits from data and plot them\n",
    "    mask_d = data_struct[i_arr]['det_type'] == 'd'\n",
    "    mask_ul = data_struct[i_arr]['det_type'] == 'u'\n",
    "\n",
    "    # get the index of the models from first line of arrangements\n",
    "    tmp_index_models = list(map(int, str.split(data_struct[i_arr]['component_number'][0], ',')))\n",
    "\n",
    "    for i_mod in tmp_index_models:  # loop on models in the arrangement\n",
    "        # defining the parameter index for the randomn selection\n",
    "        lb = sum([model_struct[i]['dim'] for i in range(i_mod)])\n",
    "        ub = lb + model_struct[i_mod]['dim']\n",
    "        tmp_color = cmap(i_mod / float(len(data_struct)))\n",
    "\n",
    "        # create the line list (segs) and feed in linecollection (improvement of perf for large numbers)\n",
    "        #dim_prob_full = (fit_struct['nsteps'] - fit_struct['nsteps_cut']) * fit_struct['nwalkers']\n",
    "        dim_prob = np.arange(len(mask))[mask].size\n",
    "        segs = np.zeros((dim_prob, dim_plot, 2))\n",
    "\n",
    "        for cpt_s,i_steps in enumerate(np.arange(len(mask))[mask]):\n",
    "            y_spa = globals()[model_struct[i_mod]['func']]\\\n",
    "                (xscale, result['weighted_samples']['points'][mask, lb:ub][cpt_s], fit_struct['redshift'][i_mod])\n",
    "#             segs[(cpt_s*np.arange(len(mask))[mask].size), :, 1] = y_spa\n",
    "            segs[cpt_s, :, 1] = y_spa\n",
    "            \n",
    "        segs[:, :, 0] = xscale\n",
    "        lines = LineCollection(segs, colors=tmp_color, lw=0.1, alpha=0.1)\n",
    "        ax1.add_collection(lines)\n",
    "\n",
    "        y_bestfit = globals()[model_struct[i_mod]['func']]\\\n",
    "            (xscale, model_struct[i_mod]['bestfit'], fit_struct['redshift'][i_mod])\n",
    "        ax1.plot(xscale, y_bestfit, color='k', ls='-')\n",
    "\n",
    "    ax1.errorbar(filter_struct[i_arr]['center'][mask_d],\n",
    "                data_struct[i_arr]['flux'][mask_d],\n",
    "                xerr=filter_struct[i_arr]['FWHM'][mask_d],\n",
    "                yerr=data_struct[i_arr]['flux_error'][mask_d],\n",
    "                ls='None', color='k', marker='D')\n",
    "    ax1.plot(filter_struct[i_arr]['center'][mask_ul],\n",
    "            data_struct[i_arr]['flux'][mask_ul],\n",
    "            ls='None', color='k', marker='v')\n",
    "\n",
    "# setting plot axes, labels, etc\n",
    "ax1.set_xscale(\"log\")\n",
    "ax1.set_yscale(\"log\")\n",
    "ax1.set_xlabel(\"Frequency [Hz]\")\n",
    "ax1.set_ylabel(r\"F$_\\nu}$ [erg s$^{-1}$ cm$^{-2}$ Hz$^{-1}$]\")\n",
    "ax1.set_xlim(min([min(x['lambda0']) for x in data_struct]) * 0.1,\n",
    "             max([max(x['lambda0']) for x in data_struct]) * 10.)\n",
    "ax1.set_ylim(min([min(x['flux']) for x in data_struct]) * 0.1,\n",
    "             max([max(x['flux']) for x in data_struct]) * 10.)\n",
    "ax1.annotate(fit_struct['source'], xy=(0.9, 0.9), xycoords='axes fraction', horizontalalignment='right')\n"
   ]
  },
  {
   "cell_type": "code",
   "execution_count": null,
   "metadata": {},
   "outputs": [],
   "source": [
    "model_struct[0]['bestfit']"
   ]
  },
  {
   "cell_type": "code",
   "execution_count": null,
   "metadata": {},
   "outputs": [],
   "source": [
    "result['weighted_samples']['points'].shape"
   ]
  },
  {
   "cell_type": "code",
   "execution_count": null,
   "metadata": {},
   "outputs": [],
   "source": [
    "result['weighted_samples']['points']"
   ]
  },
  {
   "cell_type": "code",
   "execution_count": null,
   "metadata": {},
   "outputs": [],
   "source": []
  }
 ],
 "metadata": {
  "kernelspec": {
   "display_name": "test_mrmoose",
   "language": "python",
   "name": "test_mrmoose"
  },
  "language_info": {
   "codemirror_mode": {
    "name": "ipython",
    "version": 3
   },
   "file_extension": ".py",
   "mimetype": "text/x-python",
   "name": "python",
   "nbconvert_exporter": "python",
   "pygments_lexer": "ipython3",
   "version": "3.9.6"
  }
 },
 "nbformat": 4,
 "nbformat_minor": 4
}
